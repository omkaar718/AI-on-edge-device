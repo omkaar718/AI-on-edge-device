{
 "cells": [
  {
   "cell_type": "code",
   "execution_count": 222,
   "metadata": {},
   "outputs": [
    {
     "name": "stdout",
     "output_type": "stream",
     "text": [
      "1/1 [==============================] - 0s 120ms/step\n"
     ]
    }
   ],
   "source": [
    "import tensorflow as tf\n",
    "import numpy as np\n",
    "import cv2\n",
    "img_path = \"test_images/sample_5_orig.jpg\"\n",
    "img = cv2.imread(img_path)\n",
    "image_size = 512 # 512x512\n",
    "img = cv2.resize(img, (image_size, image_size))\n",
    "img = cv2.cvtColor(img, cv2.COLOR_BGR2RGB)\n",
    "image_size = img.shape[0] # 512x512\n",
    "img_array = np.expand_dims(img,axis=0).astype(np.float32)\n",
    "# Predict\n",
    "predictions = tf.squeeze(new_model.predict(img_array))"
   ]
  },
  {
   "cell_type": "code",
   "execution_count": 223,
   "metadata": {},
   "outputs": [
    {
     "data": {
      "text/plain": [
       "<matplotlib.image.AxesImage at 0x2946999bcd0>"
      ]
     },
     "execution_count": 223,
     "metadata": {},
     "output_type": "execute_result"
    },
    {
     "data": {
      "image/png": "[encoded data removed]",
      "text/plain": [
       "<Figure size 640x480 with 1 Axes>"
      ]
     },
     "metadata": {},
     "output_type": "display_data"
    }
   ],
   "source": [
    "# Display\n",
    "import  matplotlib.pyplot as plt\n",
    "plt.imshow(predictions)"
   ]
  },
  {
   "cell_type": "code",
   "execution_count": 224,
   "metadata": {},
   "outputs": [],
   "source": [
    "img = cv2.cvtColor(img, cv2.COLOR_RGB2BGR)\n",
    "grid_size = predictions.shape[0]\n",
    "pix_per_grid = int(image_size/(grid_size))\n",
    "resolution_factor = 0.1\n",
    "old_dim = pix_per_grid\n",
    "new_dim = int(resolution_factor*old_dim)\n",
    "threshold = 0.5\n",
    "blur_indices = np.argwhere(predictions < threshold)\n",
    "for i in blur_indices:\n",
    "    row = pix_per_grid*i[0]\n",
    "    col = pix_per_grid*i[1]\n",
    "    crop = img[row: row + pix_per_grid, col:col + pix_per_grid]\n",
    "    crop = cv2.resize(crop, (new_dim, new_dim))\n",
    "    crop = cv2.resize(crop, (old_dim, old_dim))\n",
    "    img[row: row + pix_per_grid, col: col + pix_per_grid] = crop"
   ]
  },
  {
   "cell_type": "code",
   "execution_count": 225,
   "metadata": {},
   "outputs": [
    {
     "data": {
      "text/plain": [
       "(32, 3)"
      ]
     },
     "execution_count": 225,
     "metadata": {},
     "output_type": "execute_result"
    }
   ],
   "source": [
    "old_dim, new_dim"
   ]
  },
  {
   "cell_type": "code",
   "execution_count": 226,
   "metadata": {},
   "outputs": [
    {
     "data": {
      "text/plain": [
       "-1"
      ]
     },
     "execution_count": 226,
     "metadata": {},
     "output_type": "execute_result"
    }
   ],
   "source": [
    "cv2.imshow(\"image\", img)\n",
    "cv2.waitKey()"
   ]
  },
  {
   "cell_type": "code",
   "execution_count": 227,
   "metadata": {},
   "outputs": [
    {
     "data": {
      "text/plain": [
       "True"
      ]
     },
     "execution_count": 227,
     "metadata": {},
     "output_type": "execute_result"
    }
   ],
   "source": [
    "cv2.imwrite('patchwise.png', img)"
   ]
  }
 ],
 "metadata": {
  "kernelspec": {
   "display_name": "conda_env_tianen_project",
   "language": "python",
   "name": "python3"
  },
  "language_info": {
   "codemirror_mode": {
    "name": "ipython",
    "version": 3
   },
   "file_extension": ".py",
   "mimetype": "text/x-python",
   "name": "python",
   "nbconvert_exporter": "python",
   "pygments_lexer": "ipython3",
   "version": "3.11.3"
  },
  "orig_nbformat": 4
 },
 "nbformat": 4,
 "nbformat_minor": 2
}
